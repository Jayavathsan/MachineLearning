{
  "nbformat": 4,
  "nbformat_minor": 0,
  "metadata": {
    "colab": {
      "private_outputs": true,
      "provenance": [],
      "gpuType": "T4",
      "authorship_tag": "ABX9TyO+QhjaaazXUNK3m7AOjNoE",
      "include_colab_link": true
    },
    "kernelspec": {
      "name": "python3",
      "display_name": "Python 3"
    },
    "language_info": {
      "name": "python"
    },
    "accelerator": "GPU"
  },
  "cells": [
    {
      "cell_type": "markdown",
      "metadata": {
        "id": "view-in-github",
        "colab_type": "text"
      },
      "source": [
        "<a href=\"https://colab.research.google.com/github/Jayavathsan/MachineLearning/blob/main/2_Weather_Forecasting.ipynb\" target=\"_parent\"><img src=\"https://colab.research.google.com/assets/colab-badge.svg\" alt=\"Open In Colab\"/></a>"
      ]
    },
    {
      "cell_type": "markdown",
      "source": [
        "Weather forecasting with historical weather data in the city of New Delhi from 2013 to 2017"
      ],
      "metadata": {
        "id": "Y--_JBQ4K8XI"
      }
    },
    {
      "cell_type": "markdown",
      "source": [
        "Import necessary libraries"
      ],
      "metadata": {
        "id": "xq8zaHpELykN"
      }
    },
    {
      "cell_type": "code",
      "execution_count": null,
      "metadata": {
        "id": "v3vopeh8KuDE"
      },
      "outputs": [],
      "source": [
        "import pandas as pd\n",
        "import numpy as np\n",
        "import matplotlib.pyplot as plt\n",
        "import seaborn as sns\n",
        "import plotly.express as px"
      ]
    },
    {
      "cell_type": "markdown",
      "source": [
        "Import the data"
      ],
      "metadata": {
        "id": "SpJk9jpsL3jT"
      }
    },
    {
      "cell_type": "code",
      "source": [
        "data = pd.read_csv(\"/content/DailyDelhiClimateTrain.csv\")\n",
        "print(data.head())"
      ],
      "metadata": {
        "id": "wG8ie5E5LxgR"
      },
      "execution_count": null,
      "outputs": []
    },
    {
      "cell_type": "markdown",
      "source": [
        "Descriptive statistics of the data"
      ],
      "metadata": {
        "id": "pTWFcTDaMACp"
      }
    },
    {
      "cell_type": "code",
      "source": [
        "print(data.describe())"
      ],
      "metadata": {
        "id": "XAKl8v5vL89M"
      },
      "execution_count": null,
      "outputs": []
    },
    {
      "cell_type": "markdown",
      "source": [
        "Information about all the columns in the data"
      ],
      "metadata": {
        "id": "ZnFZd8d5MJI7"
      }
    },
    {
      "cell_type": "code",
      "source": [
        "print(data.info())"
      ],
      "metadata": {
        "id": "Cf-sFHBSMHtE"
      },
      "execution_count": null,
      "outputs": []
    },
    {
      "cell_type": "markdown",
      "source": [
        "Mean temperature in Delhi over the years"
      ],
      "metadata": {
        "id": "x24GUiH0MUVK"
      }
    },
    {
      "cell_type": "code",
      "source": [
        "figure = px.line(data,\n",
        "                 x=\"date\",\n",
        "                 y=\"meantemp\",\n",
        "                 title=\"Mean Temperature in Delhi over the years\")\n",
        "\n",
        "figure.show()"
      ],
      "metadata": {
        "id": "08ZqZIiHMOSc"
      },
      "execution_count": null,
      "outputs": []
    },
    {
      "cell_type": "markdown",
      "source": [
        "Humidity in Delhi over the years"
      ],
      "metadata": {
        "id": "3ahy-jP9MrJp"
      }
    },
    {
      "cell_type": "code",
      "source": [
        "figure = px.line(data,\n",
        "                 x=\"date\",\n",
        "                 y=\"humidity\",\n",
        "                 title=\"Humidity in Delhi over the years\")\n",
        "\n",
        "figure.show()"
      ],
      "metadata": {
        "id": "PzeGqc20MlCU"
      },
      "execution_count": null,
      "outputs": []
    },
    {
      "cell_type": "markdown",
      "source": [
        "Wind speed in Delhi over the years"
      ],
      "metadata": {
        "id": "fTzB6jSOM93d"
      }
    },
    {
      "cell_type": "code",
      "source": [
        "figure = px.line(data, x=\"date\",\n",
        "                 y=\"wind_speed\",\n",
        "                 title='Wind Speed in Delhi Over the Years')\n",
        "figure.show()"
      ],
      "metadata": {
        "id": "gCzMXy2rM7f_"
      },
      "execution_count": null,
      "outputs": []
    },
    {
      "cell_type": "markdown",
      "source": [
        "According to above visualization, till 2015, the wind speed was higher during monsoons (August & September) and retreating monsoons (December & January). After 2015, there were no anomalies in wind speed during monsoons."
      ],
      "metadata": {
        "id": "552nY36SNJIh"
      }
    },
    {
      "cell_type": "code",
      "source": [
        "# Temperature vs Humidity\n",
        "figure = px.scatter(data_frame = data, x=\"humidity\",\n",
        "                    y=\"meantemp\", size=\"meantemp\",\n",
        "                    trendline=\"ols\",\n",
        "                    title = \"Relationship Between Temperature and Humidity\")\n",
        "figure.show()"
      ],
      "metadata": {
        "id": "0hmlRtoGNDjS"
      },
      "execution_count": null,
      "outputs": []
    },
    {
      "cell_type": "markdown",
      "source": [
        "There is a negative correlation between temperature and humidity in Delhi. It means higher temperature results in low humidity and lower temperature results in high humidity."
      ],
      "metadata": {
        "id": "cJki08AmNWmG"
      }
    },
    {
      "cell_type": "markdown",
      "source": [
        "Analyzing Temperature Change"
      ],
      "metadata": {
        "id": "lg4TNaZwNfap"
      }
    },
    {
      "cell_type": "code",
      "source": [
        "# converting date column to datetime format, extract year and month\n",
        "data[\"date\"] = pd.to_datetime(data[\"date\"], format = '%Y-%m-%d')\n",
        "data['year'] = data['date'].dt.year\n",
        "data[\"month\"] = data[\"date\"].dt.month\n",
        "print(data.head())"
      ],
      "metadata": {
        "id": "wUmcT8-pNetl"
      },
      "execution_count": null,
      "outputs": []
    },
    {
      "cell_type": "markdown",
      "source": [
        "Temperature change in Delhi over the years"
      ],
      "metadata": {
        "id": "o7VVtcB6N22I"
      }
    },
    {
      "cell_type": "code",
      "source": [
        "plt.style.use('fivethirtyeight')\n",
        "plt.figure(figsize=(15, 10))\n",
        "plt.title(\"Temperature Change in Delhi Over the Years\")\n",
        "sns.lineplot(data = data, x='month', y='meantemp', hue='year')\n",
        "plt.show()"
      ],
      "metadata": {
        "id": "Fr0hjceBNc7L"
      },
      "execution_count": null,
      "outputs": []
    },
    {
      "cell_type": "markdown",
      "source": [
        "Although 2017 was not the hottest year in the summer, there is a rise in the average temperature of Delhi every year."
      ],
      "metadata": {
        "id": "_SGZy07XOCme"
      }
    },
    {
      "cell_type": "markdown",
      "source": [
        "# Forecasting\n",
        "\n",
        "Facebook prophet model is used for this forecasting task.\n",
        "\n",
        "The model can be installed with the command \"pip install prophet\"\n",
        "\n",
        "Model accepts time data named as \"ds\" and labels as \"y\""
      ],
      "metadata": {
        "id": "XD8AfAX3OIrK"
      }
    },
    {
      "cell_type": "code",
      "source": [
        "!pip install prophet"
      ],
      "metadata": {
        "id": "D4fIAJWfPAlv"
      },
      "execution_count": null,
      "outputs": []
    },
    {
      "cell_type": "code",
      "source": [
        "# creating the forecast_data dataset with ds and y columns\n",
        "forecast_data = data.rename(columns = {\"date\": \"ds\",\n",
        "                                       \"meantemp\": \"y\"})\n",
        "\n",
        "print(forecast_data)"
      ],
      "metadata": {
        "id": "k7-XmEwgN8hb"
      },
      "execution_count": null,
      "outputs": []
    },
    {
      "cell_type": "markdown",
      "source": [
        "Using the Prophet model for forecasting"
      ],
      "metadata": {
        "id": "P4Lrgt6kO6G5"
      }
    },
    {
      "cell_type": "code",
      "source": [
        "from prophet import Prophet\n",
        "from prophet.plot import plot_plotly, plot_components_plotly\n",
        "model = Prophet()\n",
        "model.fit(forecast_data)\n",
        "forecasts = model.make_future_dataframe(periods=365)\n",
        "predictions = model.predict(forecasts)\n",
        "plot_plotly(model, predictions)"
      ],
      "metadata": {
        "id": "RBq21hwkOrp2"
      },
      "execution_count": null,
      "outputs": []
    }
  ]
}