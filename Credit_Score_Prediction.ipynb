{
  "nbformat": 4,
  "nbformat_minor": 0,
  "metadata": {
    "colab": {
      "private_outputs": true,
      "provenance": [],
      "gpuType": "T4",
      "authorship_tag": "ABX9TyO92XPZwL6cRzQMbZZS/PHr",
      "include_colab_link": true
    },
    "kernelspec": {
      "name": "python3",
      "display_name": "Python 3"
    },
    "language_info": {
      "name": "python"
    },
    "accelerator": "GPU"
  },
  "cells": [
    {
      "cell_type": "markdown",
      "metadata": {
        "id": "view-in-github",
        "colab_type": "text"
      },
      "source": [
        "<a href=\"https://colab.research.google.com/github/Jayavathsan/MachineLearning/blob/main/Credit_Score_Prediction.ipynb\" target=\"_parent\"><img src=\"https://colab.research.google.com/assets/colab-badge.svg\" alt=\"Open In Colab\"/></a>"
      ]
    },
    {
      "cell_type": "markdown",
      "source": [
        "Import necessary libraries"
      ],
      "metadata": {
        "id": "SACsxIwr76TG"
      }
    },
    {
      "cell_type": "code",
      "execution_count": null,
      "metadata": {
        "id": "jqikw5-a56QX"
      },
      "outputs": [],
      "source": [
        "import pandas as pd\n",
        "import numpy as np\n",
        "import plotly.express as px\n",
        "import plotly.graph_objects as go\n",
        "import plotly.io as pio\n",
        "pio.templates.default = \"plotly_white\""
      ]
    },
    {
      "cell_type": "markdown",
      "source": [
        "Load the dataset"
      ],
      "metadata": {
        "id": "4Y4Gi3wE79-f"
      }
    },
    {
      "cell_type": "code",
      "source": [
        "data = pd.read_csv(\"/content/train.csv\")"
      ],
      "metadata": {
        "id": "zH0ubORm60gz"
      },
      "execution_count": null,
      "outputs": []
    },
    {
      "cell_type": "markdown",
      "source": [
        "Check the data head"
      ],
      "metadata": {
        "id": "1CeE6PXC7_vm"
      }
    },
    {
      "cell_type": "code",
      "source": [
        "print(data.head())"
      ],
      "metadata": {
        "id": "S5cHmWkN68Un"
      },
      "execution_count": null,
      "outputs": []
    },
    {
      "cell_type": "markdown",
      "source": [
        "Information about columns in the dataset"
      ],
      "metadata": {
        "id": "bGGunuH-7Qva"
      }
    },
    {
      "cell_type": "code",
      "source": [
        "print(data.info())"
      ],
      "metadata": {
        "id": "sw25fh7P7En1"
      },
      "execution_count": null,
      "outputs": []
    },
    {
      "cell_type": "markdown",
      "source": [
        "Check for null values in the dataset"
      ],
      "metadata": {
        "id": "UBS_XTIU7eCC"
      }
    },
    {
      "cell_type": "code",
      "source": [
        "print(data.isnull().sum())"
      ],
      "metadata": {
        "id": "gEjLj2cv7NO3"
      },
      "execution_count": null,
      "outputs": []
    },
    {
      "cell_type": "markdown",
      "source": [
        "Dropping rows with null values"
      ],
      "metadata": {
        "id": "Qu8hXJdG9Tm9"
      }
    },
    {
      "cell_type": "code",
      "source": [
        "data = data.dropna()"
      ],
      "metadata": {
        "id": "zRaoHcJd7i27"
      },
      "execution_count": null,
      "outputs": []
    },
    {
      "cell_type": "markdown",
      "source": [
        "Check for null values in new data"
      ],
      "metadata": {
        "id": "WbMmjWZ99cn4"
      }
    },
    {
      "cell_type": "code",
      "source": [
        "print(data.isnull().sum())"
      ],
      "metadata": {
        "id": "nYITy3wu9K6S"
      },
      "execution_count": null,
      "outputs": []
    },
    {
      "cell_type": "markdown",
      "source": [
        "Credit_Score column values"
      ],
      "metadata": {
        "id": "EvZkp_D19mGN"
      }
    },
    {
      "cell_type": "code",
      "source": [
        "data[\"Credit_Score\"].value_counts()"
      ],
      "metadata": {
        "id": "Q6YKOmdq9jP8"
      },
      "execution_count": null,
      "outputs": []
    },
    {
      "cell_type": "markdown",
      "source": [
        "# Data exploration"
      ],
      "metadata": {
        "id": "zFFFvlOi92uE"
      }
    },
    {
      "cell_type": "markdown",
      "source": [
        "Credit score based on occupation"
      ],
      "metadata": {
        "id": "21peEquN98XM"
      }
    },
    {
      "cell_type": "code",
      "source": [
        "fig = px.box(data,\n",
        "             x=\"Occupation\",\n",
        "             color=\"Credit_Score\",\n",
        "             title=\"Credit Scores based on Occupation\",\n",
        "             color_discrete_map={'Poor':'red',\n",
        "                                 'Standard':'yellow',\n",
        "                                 'Good':'green'})\n",
        "\n",
        "fig.show()"
      ],
      "metadata": {
        "id": "5XGqnfWj9wt3"
      },
      "execution_count": null,
      "outputs": []
    },
    {
      "cell_type": "markdown",
      "source": [
        "Occupation does not impact the credit score much."
      ],
      "metadata": {
        "id": "R1VGQnMCBao4"
      }
    },
    {
      "cell_type": "markdown",
      "source": [
        "Impact of annual income"
      ],
      "metadata": {
        "id": "vb1Fdw5S-6oa"
      }
    },
    {
      "cell_type": "code",
      "source": [
        "fig = px.box(data,\n",
        "             x=\"Credit_Score\",\n",
        "             y=\"Annual_Income\",\n",
        "             color=\"Credit_Score\",\n",
        "             title=\"Credit Scores based on Annual income\",\n",
        "             color_discrete_map={'Poor':'red',\n",
        "                                 'Standard':'yellow',\n",
        "                                 'Good':'green'})\n",
        "\n",
        "fig.update_traces(quartilemethod=\"exclusive\")\n",
        "fig.show()"
      ],
      "metadata": {
        "id": "AnJKATF9-q9p"
      },
      "execution_count": null,
      "outputs": []
    },
    {
      "cell_type": "markdown",
      "source": [
        "According to the above visualization more annual salary is directly in correlation with better credit score."
      ],
      "metadata": {
        "id": "tvOrdzDBBlRq"
      }
    },
    {
      "cell_type": "markdown",
      "source": [
        "Impact of monthly in hand salary"
      ],
      "metadata": {
        "id": "IHeCGnw1_2bg"
      }
    },
    {
      "cell_type": "code",
      "source": [
        "fig = px.box(data,\n",
        "             x=\"Credit_Score\",\n",
        "             y=\"Monthly_Inhand_Salary\",\n",
        "             color=\"Credit_Score\",\n",
        "             title=\"Credit Scores Based on Monthly in hand salary\",\n",
        "             color_discrete_map={'Poor':'red',\n",
        "                                 'Standard':'yellow',\n",
        "                                 'Good':'green'})\n",
        "\n",
        "fig.update_traces(quartilemethod=\"exclusive\")\n",
        "fig.show()"
      ],
      "metadata": {
        "id": "SXtPCtke_r8T"
      },
      "execution_count": null,
      "outputs": []
    },
    {
      "cell_type": "markdown",
      "source": [
        "According to the above visualization, having more monthly inhand salary results in better credit score"
      ],
      "metadata": {
        "id": "stXe3Ny8B24J"
      }
    },
    {
      "cell_type": "markdown",
      "source": [
        "Impact of number of bank accounts"
      ],
      "metadata": {
        "id": "Oa0lGN74A0wv"
      }
    },
    {
      "cell_type": "code",
      "source": [
        "fig = px.box(data,\n",
        "             x=\"Credit_Score\",\n",
        "             y=\"Num_Bank_Accounts\",\n",
        "             color=\"Credit_Score\",\n",
        "             title=\"Credit Scores Based on Number of bank accounts\",\n",
        "             color_discrete_map={'Poor':'red',\n",
        "                                 'Standard':'yellow',\n",
        "                                 'Good':'green'})\n",
        "\n",
        "fig.update_traces(quartilemethod=\"exclusive\")\n",
        "fig.show()"
      ],
      "metadata": {
        "id": "YQ-Dg2-JAryS"
      },
      "execution_count": null,
      "outputs": []
    },
    {
      "cell_type": "markdown",
      "source": [
        "According to the above visualization, having more bank accounts does not positively impact the credit score"
      ],
      "metadata": {
        "id": "_p-szCMyB_dg"
      }
    },
    {
      "cell_type": "markdown",
      "source": [
        "Impact of number of credit cards"
      ],
      "metadata": {
        "id": "rQCfN6Q9BKPi"
      }
    },
    {
      "cell_type": "code",
      "source": [
        "fig = px.box(data,\n",
        "             x=\"Credit_Score\",\n",
        "             y=\"Num_Credit_Card\",\n",
        "             color=\"Credit_Score\",\n",
        "             title=\"Credit Scores Based on number of credit cards\",\n",
        "             color_discrete_map={'Poor':'red',\n",
        "                                 'Standard':'yellow',\n",
        "                                 'Good':'green'})\n",
        "\n",
        "fig.update_traces(quartilemethod=\"exclusive\")\n",
        "fig.show()"
      ],
      "metadata": {
        "id": "632-CUVtBNXh"
      },
      "execution_count": null,
      "outputs": []
    },
    {
      "cell_type": "markdown",
      "source": [
        "According to the above visualization, having more credit cards does not positively impact credit scores. Having 3-5 cards results better credit scores"
      ],
      "metadata": {
        "id": "-6iklpF7CNJ1"
      }
    },
    {
      "cell_type": "markdown",
      "source": [
        "Credit score based on average interest paid in loans and EMIs"
      ],
      "metadata": {
        "id": "_sLS5FybCYZa"
      }
    },
    {
      "cell_type": "code",
      "source": [
        "fig = px.box(data,\n",
        "             x=\"Credit_Score\",\n",
        "             y=\"Interest_Rate\",\n",
        "             color=\"Credit_Score\",\n",
        "             title=\"Credit Scores Based on average interest rate\",\n",
        "             color_discrete_map={'Poor':'red',\n",
        "                                 'Standard':'yellow',\n",
        "                                 'Good':'green'})\n",
        "\n",
        "fig.update_traces(quartilemethod=\"exclusive\")\n",
        "fig.show()"
      ],
      "metadata": {
        "id": "vjWBZs0zCXw9"
      },
      "execution_count": null,
      "outputs": []
    },
    {
      "cell_type": "markdown",
      "source": [
        "According to the above visualization, having 4-11% interest results in Good Credit Score and having more than 15% credit scores result in Bad credit scores."
      ],
      "metadata": {
        "id": "-pFxAHy-Cqf6"
      }
    },
    {
      "cell_type": "markdown",
      "source": [
        "Impact of number of loans on Credit Score"
      ],
      "metadata": {
        "id": "6Iqj3eULC7qf"
      }
    },
    {
      "cell_type": "code",
      "source": [
        "fig = px.box(data,\n",
        "             x=\"Credit_Score\",\n",
        "             y=\"Num_of_Loan\",\n",
        "             color=\"Credit_Score\",\n",
        "             title=\"Credit Scores Based on Number of Loans\",\n",
        "             color_discrete_map={'Poor':'red',\n",
        "                                 'Standard':'yellow',\n",
        "                                 'Good':'green'})\n",
        "\n",
        "fig.update_traces(quartilemethod=\"exclusive\")\n",
        "fig.show()"
      ],
      "metadata": {
        "id": "g3X1CSCgCoA5"
      },
      "execution_count": null,
      "outputs": []
    },
    {
      "cell_type": "markdown",
      "source": [
        "According to the above visualization, having more than 3 loans negatively impact the credit score"
      ],
      "metadata": {
        "id": "vCLP1mjuDQjF"
      }
    },
    {
      "cell_type": "markdown",
      "source": [
        "Impact of delaying payments on the due date"
      ],
      "metadata": {
        "id": "c9zR9rGpDYj5"
      }
    },
    {
      "cell_type": "code",
      "source": [
        "fig = px.box(data,\n",
        "             x=\"Credit_Score\",\n",
        "             y=\"Delay_from_due_date\",\n",
        "             color=\"Credit_Score\",\n",
        "             title=\"Credit Scores Based on Average Number of days Delayed for Credit card Payments\",\n",
        "             color_discrete_map={'Poor':'red',\n",
        "                                 'Standard':'yellow',\n",
        "                                 'Good':'green'})\n",
        "\n",
        "fig.update_traces(quartilemethod=\"exclusive\")\n",
        "fig.show()"
      ],
      "metadata": {
        "id": "XJyn040xDJPR"
      },
      "execution_count": null,
      "outputs": []
    },
    {
      "cell_type": "markdown",
      "source": [
        "According to the above visualization, delaying payments for more than 17 days impact the credit score negatively"
      ],
      "metadata": {
        "id": "__W3eECoD0fw"
      }
    },
    {
      "cell_type": "markdown",
      "source": [
        "Impact of number fo delayed payments on credit score"
      ],
      "metadata": {
        "id": "x6gWLLxAD8Ac"
      }
    },
    {
      "cell_type": "code",
      "source": [
        "fig = px.box(data,\n",
        "             x=\"Credit_Score\",\n",
        "             y=\"Num_of_Delayed_Payment\",\n",
        "             color=\"Credit_Score\",\n",
        "             title=\"Credit Scores Based on Number of delayed payments\",\n",
        "             color_discrete_map={'Poor':'red',\n",
        "                                 'Standard':'yellow',\n",
        "                                 'Good':'green'})\n",
        "\n",
        "fig.update_traces(quartilemethod=\"exclusive\")\n",
        "fig.show()"
      ],
      "metadata": {
        "id": "FXxiw5ViDtTM"
      },
      "execution_count": null,
      "outputs": []
    },
    {
      "cell_type": "markdown",
      "source": [
        "According to the above visualization, delaying more than 12 payments from the due date affects the credit scores negatively."
      ],
      "metadata": {
        "id": "o67WnhYkEMyP"
      }
    },
    {
      "cell_type": "code",
      "source": [
        "fig = px.box(data,\n",
        "             x=\"Credit_Score\",\n",
        "             y=\"Outstanding_Debt\",\n",
        "             color=\"Credit_Score\",\n",
        "             title=\"Credit Scores Based on Outstanding Debt\",\n",
        "             color_discrete_map={'Poor':'red',\n",
        "                                 'Standard':'yellow',\n",
        "                                 'Good':'green'})\n",
        "fig.update_traces(quartilemethod=\"exclusive\")\n",
        "fig.show()"
      ],
      "metadata": {
        "id": "xHYAAPMUEKIi"
      },
      "execution_count": null,
      "outputs": []
    },
    {
      "cell_type": "markdown",
      "source": [
        "According to the above visualization, having a debt of more than $1338 affects credit scores negatively."
      ],
      "metadata": {
        "id": "7_QDIysREicd"
      }
    },
    {
      "cell_type": "code",
      "source": [
        "fig = px.box(data,\n",
        "             x=\"Credit_Score\",\n",
        "             y=\"Credit_Utilization_Ratio\",\n",
        "             color=\"Credit_Score\",\n",
        "             title=\"Credit Scores Based on Credit Utilization Ratio\",\n",
        "             color_discrete_map={'Poor':'red',\n",
        "                                 'Standard':'yellow',\n",
        "                                 'Good':'green'})\n",
        "fig.update_traces(quartilemethod=\"exclusive\")\n",
        "fig.show()"
      ],
      "metadata": {
        "id": "wYI572UjEnV1"
      },
      "execution_count": null,
      "outputs": []
    },
    {
      "cell_type": "markdown",
      "source": [
        "According to the above visualization, Credit utilization ratio does not affect credit scores."
      ],
      "metadata": {
        "id": "Z7p3jsJSEvR8"
      }
    },
    {
      "cell_type": "code",
      "source": [
        "fig = px.box(data,\n",
        "             x=\"Credit_Score\",\n",
        "             y=\"Credit_History_Age\",\n",
        "             color=\"Credit_Score\",\n",
        "             title=\"Credit Scores Based on Credit History Age\",\n",
        "             color_discrete_map={'Poor':'red',\n",
        "                                 'Standard':'yellow',\n",
        "                                 'Good':'green'})\n",
        "fig.update_traces(quartilemethod=\"exclusive\")\n",
        "fig.show()"
      ],
      "metadata": {
        "id": "6iUugqi2Ep29"
      },
      "execution_count": null,
      "outputs": []
    },
    {
      "cell_type": "markdown",
      "source": [
        "According to the above visualization, having a long credit history results in better credit scores."
      ],
      "metadata": {
        "id": "O0VL31W1E4ji"
      }
    },
    {
      "cell_type": "code",
      "source": [
        "fig = px.box(data,\n",
        "             x=\"Credit_Score\",\n",
        "             y=\"Total_EMI_per_month\",\n",
        "             color=\"Credit_Score\",\n",
        "             title=\"Credit Scores Based on Total Number of EMIs per Month\",\n",
        "             color_discrete_map={'Poor':'red',\n",
        "                                 'Standard':'yellow',\n",
        "                                 'Good':'green'})\n",
        "fig.update_traces(quartilemethod=\"exclusive\")\n",
        "fig.show()"
      ],
      "metadata": {
        "id": "oUKyMV5vE1L_"
      },
      "execution_count": null,
      "outputs": []
    },
    {
      "cell_type": "markdown",
      "source": [
        "According to the above visualization, number of EMIs being paid in a month does not affect credit scores much."
      ],
      "metadata": {
        "id": "5UGhnHX2FCwC"
      }
    },
    {
      "cell_type": "code",
      "source": [
        "fig = px.box(data,\n",
        "             x=\"Credit_Score\",\n",
        "             y=\"Amount_invested_monthly\",\n",
        "             color=\"Credit_Score\",\n",
        "             title=\"Credit Scores Based on Amount Invested Monthly\",\n",
        "             color_discrete_map={'Poor':'red',\n",
        "                                 'Standard':'yellow',\n",
        "                                 'Good':'green'})\n",
        "fig.update_traces(quartilemethod=\"exclusive\")\n",
        "fig.show()"
      ],
      "metadata": {
        "id": "B02I3oWyFJsj"
      },
      "execution_count": null,
      "outputs": []
    },
    {
      "cell_type": "markdown",
      "source": [
        "According to the above visualization, amount of money invested monthly does not affect credit scores."
      ],
      "metadata": {
        "id": "JjCXd-D9FRd-"
      }
    },
    {
      "cell_type": "code",
      "source": [
        "fig = px.box(data,\n",
        "             x=\"Credit_Score\",\n",
        "             y=\"Monthly_Balance\",\n",
        "             color=\"Credit_Score\",\n",
        "             title=\"Credit Scores Based on Monthly Balance Left\",\n",
        "             color_discrete_map={'Poor':'red',\n",
        "                                 'Standard':'yellow',\n",
        "                                 'Good':'green'})\n",
        "fig.update_traces(quartilemethod=\"exclusive\")\n",
        "fig.show()"
      ],
      "metadata": {
        "id": "WrzhJHh1FL77"
      },
      "execution_count": null,
      "outputs": []
    },
    {
      "cell_type": "markdown",
      "source": [
        "According to the above visualization, having a high monthly balance in your account at the end of the month is good for your credit scores. A monthly balance of less than $250 is bad for credit scores."
      ],
      "metadata": {
        "id": "1LFVKRT0FcMx"
      }
    },
    {
      "cell_type": "markdown",
      "source": [
        "# Credit Score Classification Model\n",
        "\n",
        "Credit_mix feature of the data represents the tyoes of credits and loans taken.\n",
        "\n",
        "Since the Credit_Mix column is categorical, it is transformed into a numerical feature for easy use in Machine Learing models"
      ],
      "metadata": {
        "id": "8vPaXBK3FiEb"
      }
    },
    {
      "cell_type": "code",
      "source": [
        "data[\"Credit_Mix\"] = data[\"Credit_Mix\"].map({\"Standard\": 1,\n",
        "                               \"Good\": 2,\n",
        "                               \"Bad\": 0})"
      ],
      "metadata": {
        "id": "JYprLhljFYsB"
      },
      "execution_count": null,
      "outputs": []
    },
    {
      "cell_type": "markdown",
      "source": [
        "# Splitting the data into features and labels by selecting the features that has impact on the Credit Scores"
      ],
      "metadata": {
        "id": "fkmU1_ZQGIQt"
      }
    },
    {
      "cell_type": "code",
      "source": [
        "from sklearn.model_selection import train_test_split\n",
        "x = np.array(data[[\"Annual_Income\", \"Monthly_Inhand_Salary\", \"Num_Bank_Accounts\",\n",
        "                   \"Num_Credit_Card\", \"Interest_Rate\", \"Num_of_Loan\",\n",
        "                   \"Delay_from_due_date\", \"Num_of_Delayed_Payment\",\n",
        "                   \"Credit_Mix\", \"Outstanding_Debt\",\n",
        "                   \"Credit_History_Age\", \"Monthly_Balance\"]])\n",
        "\n",
        "y = np.array(data[[\"Credit_Score\"]])"
      ],
      "metadata": {
        "id": "_NcSdHlSGQ8n"
      },
      "execution_count": null,
      "outputs": []
    },
    {
      "cell_type": "markdown",
      "source": [
        "Split the data into training and test sets to train and evaluate the model.\n"
      ],
      "metadata": {
        "id": "-WAct8NCHdE_"
      }
    },
    {
      "cell_type": "code",
      "source": [
        "xtrain, xtest, ytrain, ytest = train_test_split(x, y,\n",
        "                                                    test_size=0.33,\n",
        "                                                    random_state=42)\n",
        "from sklearn.ensemble import RandomForestClassifier\n",
        "model = RandomForestClassifier()\n",
        "model.fit(xtrain, ytrain)"
      ],
      "metadata": {
        "id": "9jbReXQ1HbZK"
      },
      "execution_count": null,
      "outputs": []
    },
    {
      "cell_type": "markdown",
      "source": [
        "Make predictions from the model by giving inputs according to the features used in training"
      ],
      "metadata": {
        "id": "NXzrgOetH6NL"
      }
    },
    {
      "cell_type": "code",
      "source": [
        "print(\"Credit Score Prediction : \")\n",
        "a = float(input(\"Annual Income: \"))\n",
        "b = float(input(\"Monthly Inhand Salary: \"))\n",
        "c = float(input(\"Number of Bank Accounts: \"))\n",
        "d = float(input(\"Number of Credit cards: \"))\n",
        "e = float(input(\"Interest rate: \"))\n",
        "f = float(input(\"Number of Loans: \"))\n",
        "g = float(input(\"Average number of days delayed by the person: \"))\n",
        "h = float(input(\"Number of delayed payments: \"))\n",
        "i = input(\"Credit Mix (Bad: 0, Standard: 1, Good: 3) : \")\n",
        "j = float(input(\"Outstanding Debt: \"))\n",
        "k = float(input(\"Credit History Age: \"))\n",
        "l = float(input(\"Monthly Balance: \"))\n",
        "\n",
        "features = np.array([[a, b, c, d, e, f, g, h, i, j, k, l]])\n",
        "print(\"Predicted Credit Score = \", model.predict(features))"
      ],
      "metadata": {
        "id": "4PyDDYZmHqBp"
      },
      "execution_count": null,
      "outputs": []
    },
    {
      "cell_type": "code",
      "source": [],
      "metadata": {
        "id": "T4kWd57LIE7A"
      },
      "execution_count": null,
      "outputs": []
    }
  ]
}