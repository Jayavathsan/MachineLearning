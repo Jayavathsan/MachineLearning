{
  "nbformat": 4,
  "nbformat_minor": 0,
  "metadata": {
    "colab": {
      "provenance": [],
      "authorship_tag": "ABX9TyO9LSo5V78T1Vc/yRcGs9ng",
      "include_colab_link": true
    },
    "kernelspec": {
      "name": "python3",
      "display_name": "Python 3"
    },
    "language_info": {
      "name": "python"
    }
  },
  "cells": [
    {
      "cell_type": "markdown",
      "metadata": {
        "id": "view-in-github",
        "colab_type": "text"
      },
      "source": [
        "<a href=\"https://colab.research.google.com/github/Jayavathsan/MachineLearning/blob/main/10_Spam_comment_detection.ipynb\" target=\"_parent\"><img src=\"https://colab.research.google.com/assets/colab-badge.svg\" alt=\"Open In Colab\"/></a>"
      ]
    },
    {
      "cell_type": "markdown",
      "source": [
        "Spam comment detection with the dataset available on Kaggle on youtube videos.\n",
        "\n",
        "Dataset is here https://www.kaggle.com/datasets/lakshmi25npathi/images"
      ],
      "metadata": {
        "id": "2eZPFT0l81xP"
      }
    },
    {
      "cell_type": "markdown",
      "source": [
        "Import the necessary libraries"
      ],
      "metadata": {
        "id": "RN_N0COu9D4S"
      }
    },
    {
      "cell_type": "code",
      "execution_count": 2,
      "metadata": {
        "id": "SvqZuo2D8aSQ"
      },
      "outputs": [],
      "source": [
        "import pandas as pd\n",
        "import numpy as np\n",
        "from sklearn.feature_extraction.text import CountVectorizer\n",
        "from sklearn.model_selection import train_test_split\n",
        "from sklearn.naive_bayes import BernoulliNB"
      ]
    },
    {
      "cell_type": "markdown",
      "source": [
        "Load the data"
      ],
      "metadata": {
        "id": "_IfgkezO9gII"
      }
    },
    {
      "cell_type": "code",
      "source": [
        "data = pd.read_csv(\"/content/Youtube01-Psy.csv\")\n",
        "print(data.sample(5))"
      ],
      "metadata": {
        "colab": {
          "base_uri": "https://localhost:8080/"
        },
        "id": "y4r_BhTV9hyj",
        "outputId": "4f2d41de-d98a-4468-eec4-a1eaa0e9ef5a"
      },
      "execution_count": 3,
      "outputs": [
        {
          "output_type": "stream",
          "name": "stdout",
          "text": [
            "                                COMMENT_ID         AUTHOR  \\\n",
            "43     z12jvnua2tifirkvk23cfjtpxwmgxfch004  Didier Drogba   \n",
            "222    z13rdtkxmnfsdptlc22qwryhlsrfslcht04    Adele Lupei   \n",
            "8      z13ttt1jcraqexk2o234ghbgzxymz1zzi04           Cony   \n",
            "300  z13fdvwhykzhuldpn04cfdtwkyqterlavnk0k       iKap Taz   \n",
            "145  z12ehhxzutqbsjrpq04ccjlqhrv5y3dzkn40k    NursePoison   \n",
            "\n",
            "                    DATE                                            CONTENT  \\\n",
            "43   2014-01-20T06:57:25  http://www.twitch.tv/jaroadc come follow and w...   \n",
            "222  2014-11-07T19:47:06  Is this the video that started the whole \"got ...   \n",
            "8    2013-11-28T16:01:47    You should check my channel for Funny VIDEOS!!﻿   \n",
            "300  2014-11-08T13:34:27  Follow 4 Follow                           @ Va...   \n",
            "145  2014-11-06T01:12:14  I think this is now a place to promote channel...   \n",
            "\n",
            "     CLASS  \n",
            "43       1  \n",
            "222      0  \n",
            "8        1  \n",
            "300      1  \n",
            "145      0  \n"
          ]
        }
      ]
    },
    {
      "cell_type": "markdown",
      "source": [
        "COntent and class are the columns needed for the task.\n",
        "\n",
        "Select CONTENT and CLASS and moving"
      ],
      "metadata": {
        "id": "WeycSLEK9wPA"
      }
    },
    {
      "cell_type": "code",
      "source": [
        "data = data[[\"CONTENT\", \"CLASS\"]]\n",
        "print(data.sample(5))"
      ],
      "metadata": {
        "colab": {
          "base_uri": "https://localhost:8080/"
        },
        "id": "PGif0tuE9ql_",
        "outputId": "9144d46e-c00f-4b6e-bbc0-8a2a68b5bbb7"
      },
      "execution_count": 4,
      "outputs": [
        {
          "output_type": "stream",
          "name": "stdout",
          "text": [
            "                                               CONTENT  CLASS\n",
            "137  check out \"starlitnightsky\" channel to see epi...      1\n",
            "222  Is this the video that started the whole \"got ...      0\n",
            "257           Still a very fun music video to watch! ﻿      0\n",
            "12                https://twitter.com/GBphotographyGB﻿      1\n",
            "28   I dont even watch it anymore i just come here ...      0\n"
          ]
        }
      ]
    },
    {
      "cell_type": "markdown",
      "source": [
        "Label 0 indicates not spam and 1 indicates spam. Switching from 0 to Not spam and 1 to spam for convinience"
      ],
      "metadata": {
        "id": "1EuEQ2Mu-Hn6"
      }
    },
    {
      "cell_type": "code",
      "source": [
        "data[\"CLASS\"] = data[\"CLASS\"].map({0: \"Not Spam\",\n",
        "                                   1: \"Spam Comment\"})\n",
        "\n",
        "print(data.sample(5))"
      ],
      "metadata": {
        "colab": {
          "base_uri": "https://localhost:8080/"
        },
        "id": "eV6aXk-6-FuR",
        "outputId": "ba1e720e-c275-4c8c-d7a1-7bce69e0f604"
      },
      "execution_count": 5,
      "outputs": [
        {
          "output_type": "stream",
          "name": "stdout",
          "text": [
            "                                               CONTENT         CLASS\n",
            "199          Subscribe to me plz plz plz plz plz plZ ﻿  Spam Comment\n",
            "222  Is this the video that started the whole \"got ...      Not Spam\n",
            "59                                      Subscribe ME!﻿  Spam Comment\n",
            "307  Go to my channel if u want to see a fly gettin...  Spam Comment\n",
            "159  ▬▬▬▬▬▬▬▬▬▬ஜ۩۞۩ஜ▬▬▬▬▬▬▬▬ ＤＡＭＮ ＴＨＩＳ ＣＯＭＭＥＮＴ ＩＳ Ｆ...      Not Spam\n"
          ]
        }
      ]
    },
    {
      "cell_type": "markdown",
      "source": [
        "Since it is a binary classification Model Bernoulli Naive Bayes algorithm can be used to train the model"
      ],
      "metadata": {
        "id": "7iRbYveM-nW6"
      }
    },
    {
      "cell_type": "code",
      "source": [
        "x = np.array(data[\"CONTENT\"])\n",
        "y = np.array(data[\"CLASS\"])\n",
        "\n",
        "cv = CountVectorizer()\n",
        "x = cv.fit_transform(x)\n",
        "xtrain, xtest, ytrain, ytest = train_test_split(x, y,\n",
        "                                                test_size=0.2,\n",
        "                                                random_state=42)\n",
        "\n",
        "model = BernoulliNB()\n",
        "model.fit(xtrain, ytrain)\n",
        "print(model.score(xtest, ytest))"
      ],
      "metadata": {
        "colab": {
          "base_uri": "https://localhost:8080/"
        },
        "id": "Ek9LfsL--k77",
        "outputId": "7d418a61-0c54-4ad6-b10d-4659b8a9e049"
      },
      "execution_count": 6,
      "outputs": [
        {
          "output_type": "stream",
          "name": "stdout",
          "text": [
            "0.9857142857142858\n"
          ]
        }
      ]
    },
    {
      "cell_type": "markdown",
      "source": [
        "Check the model by giving comments"
      ],
      "metadata": {
        "id": "FIP66LeV_kXX"
      }
    },
    {
      "cell_type": "code",
      "source": [
        "sample = \"Check this out: https://thecleverprogrammer.com/\"\n",
        "data = cv.transform([sample]).toarray()\n",
        "print(model.predict(data))"
      ],
      "metadata": {
        "colab": {
          "base_uri": "https://localhost:8080/"
        },
        "id": "EFWawUtS_fAi",
        "outputId": "30e02e32-6ce8-43df-df57-37ad04e415b1"
      },
      "execution_count": 7,
      "outputs": [
        {
          "output_type": "stream",
          "name": "stdout",
          "text": [
            "['Spam Comment']\n"
          ]
        }
      ]
    },
    {
      "cell_type": "code",
      "source": [
        "sample = \"Lack of information!\"\n",
        "data = cv.transform([sample]).toarray()\n",
        "print(model.predict(data))"
      ],
      "metadata": {
        "colab": {
          "base_uri": "https://localhost:8080/"
        },
        "id": "HImpbIk0_q-Z",
        "outputId": "a273b1df-c77a-421e-baa5-185ecbce1877"
      },
      "execution_count": 8,
      "outputs": [
        {
          "output_type": "stream",
          "name": "stdout",
          "text": [
            "['Not Spam']\n"
          ]
        }
      ]
    },
    {
      "cell_type": "code",
      "source": [
        "sample = \"total fake video!\"\n",
        "data = cv.transform([sample]).toarray()\n",
        "print(model.predict(data))"
      ],
      "metadata": {
        "colab": {
          "base_uri": "https://localhost:8080/"
        },
        "id": "nyxGLj1s_tOP",
        "outputId": "699d1e4b-d770-4b63-cd40-323c085463e3"
      },
      "execution_count": 9,
      "outputs": [
        {
          "output_type": "stream",
          "name": "stdout",
          "text": [
            "['Not Spam']\n"
          ]
        }
      ]
    }
  ]
}